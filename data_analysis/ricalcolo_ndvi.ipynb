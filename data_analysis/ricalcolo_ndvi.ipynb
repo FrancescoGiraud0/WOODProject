{
 "cells": [
  {
   "cell_type": "code",
   "execution_count": 1,
   "metadata": {},
   "outputs": [],
   "source": [
    "import cv2 as cv\n",
    "import numpy as np\n",
    "import pandas as pd"
   ]
  },
  {
   "cell_type": "code",
   "execution_count": 26,
   "metadata": {},
   "outputs": [],
   "source": [
    "DIFF_THRESHOLD = 0.3\n",
    "PIXEL_THRESHOLD = 0.6 "
   ]
  },
  {
   "cell_type": "code",
   "execution_count": 25,
   "metadata": {},
   "outputs": [],
   "source": [
    "def calculate_statistics(ndvi_array, pixel_threshold=PIXEL_THRESHOLD, diff_threshold=DIFF_THRESHOLD):\n",
    "    '''\n",
    "    This function generate a dictionary counting the percentage of pixels for every\n",
    "    NDVI graduations (keys of the dictionary) of a numpy array made of NDVI values\n",
    "    (a value for every pixel).\n",
    "    This function also computes the 'diff' value, it is the percentage of pixels with\n",
    "    a low NDVI (less vegetation) near every high NDVI pixels (every pixel with more\n",
    "    than pixel_threshold NDVI value).\n",
    "    '''\n",
    "    NDVIGraduation = {\n",
    "        0 : 0, # <0.1\n",
    "        1 : 0, # 0.1-0.2\n",
    "        2 : 0, # 0.2-0.3\n",
    "        3 : 0, # 0.3-0.4\n",
    "        4 : 0, # 0.4-0.5\n",
    "        5 : 0, # 0.5-0.6\n",
    "        6 : 0, # 0.6-0.7\n",
    "        7 : 0, # 0.7-0.8\n",
    "        8 : 0, # 0.8-0.9\n",
    "        9 : 0, # 0.9-1.0\n",
    "        'diff' : 0 # Number of pixel with contrast (Forest-Desert, Forest-Cities, Forest-Soil)\n",
    "    }\n",
    "\n",
    "    shape = np.shape(ndvi_array)\n",
    "    # Map values from 0-255 to 0-1\n",
    "    temp = ndvi_array / 255.0\n",
    "    # Calculate the number of pixels\n",
    "    nofpixel = 1.0 * shape[0] * shape[1]\n",
    "    \n",
    "    for i, val in enumerate(np.histogram(temp[1:-1,1:-1], bins=[0.0,0.1,0.2,0.3,0.4,0.5,0.6,0.7,0.8,0.9,1.0])[0]):\n",
    "        NDVIGraduation[i] = val/nofpixel\n",
    "     \n",
    "    diff_10 = np.where((temp - np.roll(temp,shift=1,axis=0)) > diff_threshold,1,0)\n",
    "    diff_11 = np.where((temp - np.roll(temp,shift=1,axis=1)) > diff_threshold,1,0)\n",
    "    diff_array_thr = np.where( temp>pixel_threshold, diff_10+diff_11, 0)\n",
    "    \n",
    "    NDVIGraduation['diff'] = (diff_array_thr[1:-1,1:-1].sum())/nofpixel\n",
    "\n",
    "    return NDVIGraduation"
   ]
  },
  {
   "cell_type": "code",
   "execution_count": 27,
   "metadata": {},
   "outputs": [],
   "source": [
    "def calculateNDVI(image):\n",
    "    '''\n",
    "    This function calculates the NDVI (Normalized Difference\n",
    "    Vegetation Index) for each pixel of the photo and collect\n",
    "    these values in \"ndvi\" numpy array.\n",
    "    '''\n",
    "    # Extract bgr values\n",
    "    b, _, r = cv.split(image)\n",
    "    bottom = (r.astype(float) + b.astype(float))\n",
    "    # Change zeros of bottom array  \n",
    "    # (to make sure to not divide by zero)\n",
    "    bottom[bottom == 0] = 0.0000000000001\n",
    "\n",
    "    # Calculate NDVI value of each pixel\n",
    "    ndvi = (r.astype(float) - b) / bottom\n",
    "    \n",
    "    ndvi = contrast_stretch(ndvi)\n",
    "    ndvi = ndvi.astype(np.uint8)\n",
    "    \n",
    "    return ndvi"
   ]
  },
  {
   "cell_type": "code",
   "execution_count": 28,
   "metadata": {},
   "outputs": [],
   "source": [
    "def contrast_stretch(im):\n",
    "    '''\n",
    "    Performs a simple contrast stretch of the given image, from 5-100%.\n",
    "    '''\n",
    "    in_min = np.percentile(im, 5)\n",
    "    in_max = np.percentile(im, 100)\n",
    "\n",
    "    out_min = 0.0\n",
    "    out_max = 255.0\n",
    "\n",
    "    out = im - in_min\n",
    "    out *= ((out_min - out_max) / (in_min - in_max))\n",
    "    out += in_min\n",
    "\n",
    "    return out"
   ]
  },
  {
   "cell_type": "code",
   "execution_count": 48,
   "metadata": {},
   "outputs": [
    {
     "name": "stdout",
     "output_type": "stream",
     "text": [
      "Photo number 42...\n",
      "Photo number 43...\n",
      "Photo number 60...\n",
      "Photo number 61...\n",
      "Photo number 74...\n",
      "Photo number 75...\n",
      "Photo number 75 (tagliata)...\n",
      "Photo number 85...\n",
      "Photo number 98...\n",
      "Photo number 98 (tagliata)...\n",
      "Photo number 99...\n",
      "Complete\n"
     ]
    }
   ],
   "source": [
    "from pprint import pformat\n",
    "\n",
    "csv_file = open('vegetation_new.csv', 'w')\n",
    "\n",
    "photo_list = [42,43,60,61,74,75,85,98, 99]\n",
    "\n",
    "for photo_counter in photo_list:\n",
    "    \n",
    "    print(f'Photo number {photo_counter}...')\n",
    "\n",
    "    img = cv.imread(\"woodsmissionteam_img_\" + str(photo_counter).zfill(3) +\".png\")\n",
    "    \n",
    "    ndvi = 255-calculateNDVI(img)\n",
    "\n",
    "    cv.imwrite(\"woodsmissionteam_img_\" + str(photo_counter).zfill(3) +\"_NDVI.png\",ndvi)\n",
    "\n",
    "    ndvi_color = cv.applyColorMap(ndvi, cv.COLORMAP_JET)\n",
    "\n",
    "    cv.imwrite(\"woodsmissionteam_img_\" + str(photo_counter).zfill(3) +\"_NDVI_COLOR_JET.png\", ndvi_color)\n",
    "    \n",
    "    stats = list(calculate_statistics(ndvi).values())\n",
    "    str_stats = ','.join(list(map(str, stats)))\n",
    "    \n",
    "    csv_file.write(f'{photo_counter}, {str_stats}')\n",
    "    \n",
    "    if photo_counter==75 or photo_counter==98:\n",
    "        \n",
    "        print(f'Photo number {photo_counter} (tagliata)...')\n",
    "        \n",
    "        img = cv.imread(\"woodsmissionteam_img_\" + str(photo_counter).zfill(3) +\"_tagliata.png\")\n",
    "        \n",
    "        ndvi = 255-calculateNDVI(img)\n",
    "\n",
    "        cv.imwrite(\"woodsmissionteam_img_\" + str(photo_counter).zfill(3) +\"_NDVI_tagliata.png\",ndvi)\n",
    "\n",
    "        ndvi_color = cv.applyColorMap(ndvi, cv.COLORMAP_JET)\n",
    "\n",
    "        cv.imwrite(\"woodsmissionteam_img_\" + str(photo_counter).zfill(3) +\"_NDVI_COLOR_JET_tagliata.png\", ndvi_color)\n",
    "        \n",
    "        stats = list(calculate_statistics(ndvi).values())\n",
    "        \n",
    "        str_stats = ','.join(list(map(str, stats)))\n",
    "\n",
    "        csv_file.write(f'{photo_counter}, {str_stats}')\n",
    "        \n",
    "print('Complete')\n",
    "\n",
    "csv_file.close()"
   ]
  }
 ],
 "metadata": {
  "kernelspec": {
   "display_name": "Python 3",
   "language": "python",
   "name": "python3"
  },
  "language_info": {
   "codemirror_mode": {
    "name": "ipython",
    "version": 3
   },
   "file_extension": ".py",
   "mimetype": "text/x-python",
   "name": "python",
   "nbconvert_exporter": "python",
   "pygments_lexer": "ipython3",
   "version": "3.8.3rc1"
  }
 },
 "nbformat": 4,
 "nbformat_minor": 4
}
